{
 "cells": [
  {
   "cell_type": "code",
   "execution_count": 35,
   "id": "9fbbeb01",
   "metadata": {},
   "outputs": [],
   "source": [
    "import math\n",
    "\n",
    "with open(\"input_fullfile.txt\") as myfile:\n",
    "    firstNlines=myfile.readlines()#[0:5] #put here the interval you want\n",
    "\n",
    "numLines = len(firstNlines)\n",
    "chunkLines = math.ceil(numLines/115)\n",
    "\n",
    "for i in range (115):\n",
    "    if i == 0:\n",
    "        ln = firstNlines[i*numLines:(i+1)*numLines]\n",
    "    else:\n",
    "        ln = firstNlines[(i*numLines)+1:(i+1)*numLines]\n",
    "    #print(ln)\n",
    "    filename = 'input_' + str(i) + '.txt'\n",
    "    f = open(filename, 'w')          \n",
    "    f.writelines( \"%s\" % item for item in ln )\n",
    "    f.close()\n"
   ]
  },
  {
   "cell_type": "code",
   "execution_count": 33,
   "id": "638a3918",
   "metadata": {},
   "outputs": [
    {
     "name": "stdout",
     "output_type": "stream",
     "text": [
      "['6024945\\t90001_0_0\\n', '1000056\\t90001_0_0\\n', '1000151\\t90001_0_0\\n', '1000201\\t90001_0_0\\n', '1000213\\t90001_0_0\\n']\n"
     ]
    }
   ],
   "source": [
    "with open(\"input_0.txt\") as myfile:\n",
    "    firstNlines=myfile.readlines()[0:5] #put here the interval you want\n",
    "    print(firstNlines)"
   ]
  },
  {
   "cell_type": "code",
   "execution_count": null,
   "id": "f661b2ce",
   "metadata": {},
   "outputs": [],
   "source": []
  }
 ],
 "metadata": {
  "kernelspec": {
   "display_name": "Python 3",
   "language": "python",
   "name": "python3"
  },
  "language_info": {
   "codemirror_mode": {
    "name": "ipython",
    "version": 3
   },
   "file_extension": ".py",
   "mimetype": "text/x-python",
   "name": "python",
   "nbconvert_exporter": "python",
   "pygments_lexer": "ipython3",
   "version": "3.8.8"
  }
 },
 "nbformat": 4,
 "nbformat_minor": 5
}
