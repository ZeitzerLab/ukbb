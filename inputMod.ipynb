{
 "cells": [
  {
   "cell_type": "code",
   "execution_count": 2,
   "id": "92f9f3e5",
   "metadata": {},
   "outputs": [
    {
     "name": "stdout",
     "output_type": "stream",
     "text": [
      "['downloadData.txt', 'getData.txt', 'input_0.txt', 'input_1.txt', 'input_10.txt', 'input_100.txt', 'input_101.txt', 'input_102.txt', 'input_103.txt', 'input_104.txt', 'input_105.txt', 'input_106.txt', 'input_107.txt', 'input_108.txt', 'input_109.txt', 'input_11.txt', 'input_110.txt', 'input_111.txt', 'input_112.txt', 'input_113.txt', 'input_114.txt', 'input_12.txt', 'input_13.txt', 'input_14.txt', 'input_15.txt', 'input_16.txt', 'input_17.txt', 'input_18.txt', 'input_19.txt', 'input_2.txt', 'input_20.txt', 'input_21.txt', 'input_22.txt', 'input_23.txt', 'input_24.txt', 'input_25.txt', 'input_26.txt', 'input_27.txt', 'input_28.txt', 'input_29.txt', 'input_3.txt', 'input_30.txt', 'input_31.txt', 'input_32.txt', 'input_33.txt', 'input_34.txt', 'input_35.txt', 'input_36.txt', 'input_37.txt', 'input_38.txt', 'input_39.txt', 'input_4.txt', 'input_40.txt', 'input_41.txt', 'input_42.txt', 'input_43.txt', 'input_44.txt', 'input_45.txt', 'input_46.txt', 'input_47.txt', 'input_48.txt', 'input_49.txt', 'input_5.txt', 'input_50.txt', 'input_51.txt', 'input_52.txt', 'input_53.txt', 'input_54.txt', 'input_55.txt', 'input_56.txt', 'input_57.txt', 'input_58.txt', 'input_59.txt', 'input_6.txt', 'input_60.txt', 'input_61.txt', 'input_62.txt', 'input_63.txt', 'input_64.txt', 'input_65.txt', 'input_66.txt', 'input_67.txt', 'input_68.txt', 'input_69.txt', 'input_7.txt', 'input_70.txt', 'input_71.txt', 'input_72.txt', 'input_73.txt', 'input_74.txt', 'input_75.txt', 'input_76.txt', 'input_77.txt', 'input_78.txt', 'input_79.txt', 'input_8.txt', 'input_80.txt', 'input_81.txt', 'input_82.txt', 'input_83.txt', 'input_84.txt', 'input_85.txt', 'input_86.txt', 'input_87.txt', 'input_88.txt', 'input_89.txt', 'input_9.txt', 'input_90.txt', 'input_91.txt', 'input_92.txt', 'input_93.txt', 'input_94.txt', 'input_95.txt', 'input_96.txt', 'input_97.txt', 'input_98.txt', 'input_99.txt', 'input_fullfile.txt', 'New Text Document.txt', 'process-cmds_Batch_test.txt', 'testBatch.txt']\n"
     ]
    }
   ],
   "source": [
    "import math\n",
    "import os\n",
    "import pathlib\n",
    "\n",
    "\n",
    "directory = os.getcwd()\n",
    "filenames = os.listdir(directory)\n",
    "cwa = [file[:-14] for file in filenames if file[-4:]=='.cwa']\n",
    "\n",
    "#print(cwa)\n",
    "\n",
    "for fn in filenames:\n",
    "    if fn.endswith(\".txt\"):\n",
    "        print(fn)\n",
    "        myfile = open(fn,\"r\")\n",
    "        lines=myfile.readlines()\n",
    "        print(len(lines))\n",
    "        myfile.close()\n",
    "        new_lines = [line for line in lines if line[:7] not in cwa]\n",
    "        if not new_lines:\n",
    "            os.remove(fn)\n",
    "        else:\n",
    "            new_file = open(fn, \"w\")\n",
    "            for nl in new_lines:\n",
    "                new_file.write(nl)\n",
    "            print(len(new_lines))\n",
    "            new_file.close()         \n",
    "      "
   ]
  },
  {
   "cell_type": "code",
   "execution_count": null,
   "id": "90cb0983",
   "metadata": {},
   "outputs": [],
   "source": [
    "for filename in os.listdir(directory):\n",
    "    if filename.endswith(\".txt\"):\n",
    "        print(filename)\n",
    "        with open(filename) as myfile:\n",
    "            firstNlines=myfile.readlines()#[0:5] #put here the interval you want\n",
    "    for i in firstNlines:\n",
    "    \n",
    "    n += 1"
   ]
  },
  {
   "cell_type": "code",
   "execution_count": null,
   "id": "2fb3d0c3",
   "metadata": {},
   "outputs": [],
   "source": [
    "numLines = len(firstNlines)\n",
    "chunkLines = math.ceil(numLines/115)\n",
    "\n",
    "for i in range (115):\n",
    "    if i == 0:\n",
    "        ln = firstNlines[i*chunkLines:(i+1)*chunkLines]\n",
    "    else:\n",
    "        ln = firstNlines[(i*chunkLines)+1:(i+1)*chunkLines]\n",
    "    #print(ln)\n",
    "    filename = 'input_' + str(i) + '.txt'\n",
    "    f = open(filename, 'w')          \n",
    "    f.writelines( \"%s\" % item for item in ln )\n",
    "    f.close()"
   ]
  }
 ],
 "metadata": {
  "kernelspec": {
   "display_name": "Python 3",
   "language": "python",
   "name": "python3"
  },
  "language_info": {
   "codemirror_mode": {
    "name": "ipython",
    "version": 3
   },
   "file_extension": ".py",
   "mimetype": "text/x-python",
   "name": "python",
   "nbconvert_exporter": "python",
   "pygments_lexer": "ipython3",
   "version": "3.8.8"
  }
 },
 "nbformat": 4,
 "nbformat_minor": 5
}
