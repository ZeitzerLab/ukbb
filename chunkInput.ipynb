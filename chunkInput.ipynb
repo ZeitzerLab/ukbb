{
 "cells": [
  {
   "cell_type": "code",
   "execution_count": 1,
   "id": "ffe16c06",
   "metadata": {},
   "outputs": [],
   "source": [
    "import math\n",
    "\n",
    "numFiles = 10\n",
    "\n",
    "with open(\"input_fullfile.txt\") as myfile:\n",
    "    firstNlines=myfile.readlines()#[0:5] #put here the interval you want\n",
    "\n",
    "numLines = len(firstNlines)\n",
    "chunkLines = math.ceil(numLines/numFiles)\n",
    "\n",
    "for i in range (numFiles):\n",
    "    if i == 0:\n",
    "        ln = firstNlines[i*chunkLines:(i+1)*chunkLines]\n",
    "    else:\n",
    "        ln = firstNlines[(i*chunkLines)+1:(i+1)*chunkLines]\n",
    "    #print(ln)\n",
    "    filename = 'input_' + str(i) + '.txt'\n",
    "    f = open(filename, 'w')          \n",
    "    f.writelines( \"%s\" % item for item in ln )\n",
    "    f.close()\n"
   ]
  },
  {
   "cell_type": "code",
   "execution_count": 2,
   "id": "2ada9fe7",
   "metadata": {},
   "outputs": [
    {
     "name": "stdout",
     "output_type": "stream",
     "text": [
      "['1000201\\t90001_0_0\\n', '1000267\\t90001_0_0\\n', '1000663\\t90001_0_0\\n', '1000797\\t90001_0_0\\n', '1000891\\t90001_0_0\\n']\n"
     ]
    }
   ],
   "source": [
    "# Look at the .txt files created\n",
    "with open(\"input_0.txt\") as myfile:\n",
    "    firstNlines=myfile.readlines()[0:5] #put here the interval you want\n",
    "    print(firstNlines)"
   ]
  }
 ],
 "metadata": {
  "kernelspec": {
   "display_name": "Python 3",
   "language": "python",
   "name": "python3"
  },
  "language_info": {
   "codemirror_mode": {
    "name": "ipython",
    "version": 3
   },
   "file_extension": ".py",
   "mimetype": "text/x-python",
   "name": "python",
   "nbconvert_exporter": "python",
   "pygments_lexer": "ipython3",
   "version": "3.8.8"
  }
 },
 "nbformat": 4,
 "nbformat_minor": 5
}
